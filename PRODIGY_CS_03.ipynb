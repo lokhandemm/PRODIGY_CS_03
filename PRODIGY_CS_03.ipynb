{
  "nbformat": 4,
  "nbformat_minor": 0,
  "metadata": {
    "colab": {
      "provenance": []
    },
    "kernelspec": {
      "name": "python3",
      "display_name": "Python 3"
    },
    "language_info": {
      "name": "python"
    }
  },
  "cells": [
    {
      "cell_type": "code",
      "execution_count": 4,
      "metadata": {
        "colab": {
          "base_uri": "https://localhost:8080/"
        },
        "id": "h2t1nfUqJGfb",
        "outputId": "494ce245-a66e-4b19-b00e-004a4c54300e"
      },
      "outputs": [
        {
          "output_type": "stream",
          "name": "stdout",
          "text": [
            "Enter a password to check its strength:12345\n",
            "Password Strength: Very Weak\n",
            "feedback:\n",
            "-Password should be at least 8 characters long.\n",
            "-Password should have at least one uppercase letter.\n",
            "-Password should have at least one lowercase letter.\n",
            "-Password should have at least one special character (!,@,#,$,etc).\n"
          ]
        }
      ],
      "source": [
        "import re\n",
        "def check_password_strength(password):\n",
        "    length_check=len(password)>=8\n",
        "    upper_check=any(char.isupper() for char in password)\n",
        "    lower_check=any(char.islower() for char in password)\n",
        "    digit_check=any(char.isdigit() for char in password)\n",
        "    special_check=any(char in \"!@#$%^&*()-_+=<>?/.,:;\" for char in password)\n",
        "    score = sum([length_check, upper_check, lower_check, digit_check, special_check])\n",
        "    if score == 5:\n",
        "       strength = \"Very Strong\"\n",
        "    elif score == 4:\n",
        "        strength = \"Strong\"\n",
        "    elif score == 3:\n",
        "      strength = \"Moderate\"\n",
        "    elif score == 2:\n",
        "      strength = \"Weak\"\n",
        "    else:\n",
        "       strength = \"Very Weak\"\n",
        "    feedback = []\n",
        "    if not length_check:\n",
        "      feedback.append(\"Password should be at least 8 characters long.\")\n",
        "    if not upper_check:\n",
        "        feedback.append(\"Password should have at least one uppercase letter.\")\n",
        "    if not lower_check:\n",
        "      feedback.append(\"Password should have at least one lowercase letter.\")\n",
        "    if not digit_check:\n",
        "       feedback.append(\"Password should have at least one digit.\")\n",
        "    if not special_check:\n",
        "      feedback.append(\"Password should have at least one special character (!,@,#,$,etc).\")\n",
        "    return strength, feedback\n",
        "password = input(\"Enter a password to check its strength:\")\n",
        "strength,feedback=check_password_strength(password)\n",
        "print(f\"Password Strength: {strength}\")\n",
        "if feedback:\n",
        "    print(\"feedback:\")\n",
        "    for f in feedback:\n",
        "        print(f\"-{f}\")\n"
      ]
    },
    {
      "cell_type": "code",
      "source": [],
      "metadata": {
        "id": "60OcDhWGJd6F"
      },
      "execution_count": null,
      "outputs": []
    }
  ]
}